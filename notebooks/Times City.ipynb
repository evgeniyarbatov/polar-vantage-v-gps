{
 "cells": [
  {
   "cell_type": "code",
   "execution_count": null,
   "id": "03c07f7d-4393-4de2-b66f-55be25dbefef",
   "metadata": {},
   "outputs": [],
   "source": []
  }
 ],
 "metadata": {
  "kernelspec": {
   "display_name": "",
   "name": ""
  },
  "language_info": {
   "name": ""
  }
 },
 "nbformat": 4,
 "nbformat_minor": 5
}
